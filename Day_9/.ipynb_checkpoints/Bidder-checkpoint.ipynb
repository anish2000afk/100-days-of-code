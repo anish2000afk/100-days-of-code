{
 "cells": [
  {
   "cell_type": "code",
   "execution_count": null,
   "id": "20e7428a-c000-4abb-8c5c-4ddf12c68720",
   "metadata": {},
   "outputs": [],
   "source": [
    "My own diagram "
   ]
  },
  {
   "cell_type": "markdown",
   "id": "2943beb4-b2ef-4128-baf1-6e40fba22b0e",
   "metadata": {},
   "source": [
    "https://app.diagrams.net/#G1KFpnDezB4LVYFxTnWRRuL_2lQVYtP9Q0#%7B%22pageId%22%3A%22ABVFl3Z395zpNNOrmmJk%22%7D"
   ]
  }
 ],
 "metadata": {
  "kernelspec": {
   "display_name": "Python 3 (ipykernel)",
   "language": "python",
   "name": "python3"
  },
  "language_info": {
   "codemirror_mode": {
    "name": "ipython",
    "version": 3
   },
   "file_extension": ".py",
   "mimetype": "text/x-python",
   "name": "python",
   "nbconvert_exporter": "python",
   "pygments_lexer": "ipython3",
   "version": "3.13.3"
  }
 },
 "nbformat": 4,
 "nbformat_minor": 5
}
